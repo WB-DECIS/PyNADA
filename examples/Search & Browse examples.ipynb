{
 "cells": [
  {
   "cell_type": "markdown",
   "metadata": {},
   "source": [
    "# PyNADA examples - Search & Browse"
   ]
  },
  {
   "cell_type": "code",
   "execution_count": 1,
   "metadata": {},
   "outputs": [],
   "source": [
    "import pynada as nada"
   ]
  },
  {
   "cell_type": "markdown",
   "metadata": {},
   "source": [
    "## First you need to set API URL and KEY for your NADA catalog\n",
    "This examples uses training.ihsn.org"
   ]
  },
  {
   "cell_type": "code",
   "execution_count": 2,
   "metadata": {},
   "outputs": [],
   "source": [
    "nada.set_api_url('http://training.ihsn.org/index.php/api/')\n",
    "#api_key = 'PASTE-YOUR-KEY-HERE'\n",
    "api_key = open(\"API Key.txt\", \"r\").read()\n",
    "nada.set_api_key(api_key)"
   ]
  },
  {
   "cell_type": "markdown",
   "metadata": {},
   "source": [
    "<br>"
   ]
  },
  {
   "cell_type": "markdown",
   "metadata": {},
   "source": [
    "## Example 1. Search catalog"
   ]
  },
  {
   "cell_type": "markdown",
   "metadata": {},
   "source": [
    "### Ex 1-1) list datasets whose title contains 'Food'"
   ]
  },
  {
   "cell_type": "code",
   "execution_count": 9,
   "metadata": {
    "scrolled": true
   },
   "outputs": [
    {
     "data": {
      "text/html": [
       "<div>\n",
       "<style scoped>\n",
       "    .dataframe tbody tr th:only-of-type {\n",
       "        vertical-align: middle;\n",
       "    }\n",
       "\n",
       "    .dataframe tbody tr th {\n",
       "        vertical-align: top;\n",
       "    }\n",
       "\n",
       "    .dataframe thead th {\n",
       "        text-align: right;\n",
       "    }\n",
       "</style>\n",
       "<table border=\"1\" class=\"dataframe\">\n",
       "  <thead>\n",
       "    <tr style=\"text-align: right;\">\n",
       "      <th></th>\n",
       "      <th>type</th>\n",
       "      <th>repositoryid</th>\n",
       "      <th>idno</th>\n",
       "      <th>title</th>\n",
       "      <th>abbreviation</th>\n",
       "      <th>authoring_entity</th>\n",
       "      <th>nation</th>\n",
       "      <th>year_start</th>\n",
       "      <th>year_end</th>\n",
       "      <th>link_da</th>\n",
       "      <th>published</th>\n",
       "      <th>created</th>\n",
       "      <th>changed</th>\n",
       "      <th>varcount</th>\n",
       "      <th>total_views</th>\n",
       "      <th>total_downloads</th>\n",
       "      <th>created_by</th>\n",
       "      <th>changed_by</th>\n",
       "      <th>formid</th>\n",
       "    </tr>\n",
       "    <tr>\n",
       "      <th>id</th>\n",
       "      <th></th>\n",
       "      <th></th>\n",
       "      <th></th>\n",
       "      <th></th>\n",
       "      <th></th>\n",
       "      <th></th>\n",
       "      <th></th>\n",
       "      <th></th>\n",
       "      <th></th>\n",
       "      <th></th>\n",
       "      <th></th>\n",
       "      <th></th>\n",
       "      <th></th>\n",
       "      <th></th>\n",
       "      <th></th>\n",
       "      <th></th>\n",
       "      <th></th>\n",
       "      <th></th>\n",
       "      <th></th>\n",
       "    </tr>\n",
       "  </thead>\n",
       "  <tbody>\n",
       "    <tr>\n",
       "      <th>1</th>\n",
       "      <td>document</td>\n",
       "      <td>central</td>\n",
       "      <td>WB_WPS9412</td>\n",
       "      <td>Predicting Food Crises</td>\n",
       "      <td>0</td>\n",
       "      <td>Bo P. J. Andree, Andres Chamorro, Aart Kraay, ...</td>\n",
       "      <td>Afghanistan, Burkina Faso, Chad, Congo, Dem. R...</td>\n",
       "      <td>2020</td>\n",
       "      <td>2020</td>\n",
       "      <td>None</td>\n",
       "      <td>1</td>\n",
       "      <td>2020-10-22T12:22:15+00:00</td>\n",
       "      <td>2020-10-22T12:22:15+00:00</td>\n",
       "      <td>None</td>\n",
       "      <td>13</td>\n",
       "      <td>0</td>\n",
       "      <td>4</td>\n",
       "      <td>4</td>\n",
       "      <td>None</td>\n",
       "    </tr>\n",
       "    <tr>\n",
       "      <th>2</th>\n",
       "      <td>document</td>\n",
       "      <td>central</td>\n",
       "      <td>WB_WPS9411</td>\n",
       "      <td>Predicting Food Crises</td>\n",
       "      <td>0</td>\n",
       "      <td>Bo P. J. Andree, Andres Chamorro, Aart Kraay, ...</td>\n",
       "      <td>Afghanistan, Burkina Faso, Chad, Congo, Dem. R...</td>\n",
       "      <td>2020</td>\n",
       "      <td>2020</td>\n",
       "      <td>The data is available from the following URL: ...</td>\n",
       "      <td>1</td>\n",
       "      <td>2020-12-09T13:12:59+00:00</td>\n",
       "      <td>2020-12-09T13:12:59+00:00</td>\n",
       "      <td>None</td>\n",
       "      <td>32</td>\n",
       "      <td>2</td>\n",
       "      <td>4</td>\n",
       "      <td>4</td>\n",
       "      <td>0</td>\n",
       "    </tr>\n",
       "    <tr>\n",
       "      <th>4</th>\n",
       "      <td>script</td>\n",
       "      <td>central</td>\n",
       "      <td>RR_WLD_2020_PFC_v01</td>\n",
       "      <td>Reproducible code for the World Bank Policy Re...</td>\n",
       "      <td>0</td>\n",
       "      <td>Bo Pieter Johannes Andree</td>\n",
       "      <td></td>\n",
       "      <td>2020</td>\n",
       "      <td>2020</td>\n",
       "      <td>None</td>\n",
       "      <td>1</td>\n",
       "      <td>2020-10-26T12:46:23+00:00</td>\n",
       "      <td>2020-10-26T12:46:23+00:00</td>\n",
       "      <td>None</td>\n",
       "      <td>13</td>\n",
       "      <td>3</td>\n",
       "      <td>4</td>\n",
       "      <td>4</td>\n",
       "      <td>None</td>\n",
       "    </tr>\n",
       "  </tbody>\n",
       "</table>\n",
       "</div>"
      ],
      "text/plain": [
       "        type repositoryid                 idno  \\\n",
       "id                                               \n",
       "1   document      central           WB_WPS9412   \n",
       "2   document      central           WB_WPS9411   \n",
       "4     script      central  RR_WLD_2020_PFC_v01   \n",
       "\n",
       "                                                title abbreviation  \\\n",
       "id                                                                   \n",
       "1                              Predicting Food Crises            0   \n",
       "2                              Predicting Food Crises            0   \n",
       "4   Reproducible code for the World Bank Policy Re...            0   \n",
       "\n",
       "                                     authoring_entity  \\\n",
       "id                                                      \n",
       "1   Bo P. J. Andree, Andres Chamorro, Aart Kraay, ...   \n",
       "2   Bo P. J. Andree, Andres Chamorro, Aart Kraay, ...   \n",
       "4                           Bo Pieter Johannes Andree   \n",
       "\n",
       "                                               nation year_start year_end  \\\n",
       "id                                                                          \n",
       "1   Afghanistan, Burkina Faso, Chad, Congo, Dem. R...       2020     2020   \n",
       "2   Afghanistan, Burkina Faso, Chad, Congo, Dem. R...       2020     2020   \n",
       "4                                                           2020     2020   \n",
       "\n",
       "                                              link_da published  \\\n",
       "id                                                                \n",
       "1                                                None         1   \n",
       "2   The data is available from the following URL: ...         1   \n",
       "4                                                None         1   \n",
       "\n",
       "                      created                    changed varcount total_views  \\\n",
       "id                                                                              \n",
       "1   2020-10-22T12:22:15+00:00  2020-10-22T12:22:15+00:00     None          13   \n",
       "2   2020-12-09T13:12:59+00:00  2020-12-09T13:12:59+00:00     None          32   \n",
       "4   2020-10-26T12:46:23+00:00  2020-10-26T12:46:23+00:00     None          13   \n",
       "\n",
       "   total_downloads created_by changed_by formid  \n",
       "id                                               \n",
       "1                0          4          4   None  \n",
       "2                2          4          4      0  \n",
       "4                3          4          4   None  "
      ]
     },
     "execution_count": 9,
     "metadata": {},
     "output_type": "execute_result"
    }
   ],
   "source": [
    "### Ex 1-1) list datasets whose title contains 'Food'\n",
    "\n",
    "nada.search_by_title('Food')"
   ]
  },
  {
   "cell_type": "markdown",
   "metadata": {},
   "source": [
    "### Ex 1-2) list datasets whose IDNo contains 'LSMS'"
   ]
  },
  {
   "cell_type": "code",
   "execution_count": 8,
   "metadata": {},
   "outputs": [
    {
     "data": {
      "text/html": [
       "<div>\n",
       "<style scoped>\n",
       "    .dataframe tbody tr th:only-of-type {\n",
       "        vertical-align: middle;\n",
       "    }\n",
       "\n",
       "    .dataframe tbody tr th {\n",
       "        vertical-align: top;\n",
       "    }\n",
       "\n",
       "    .dataframe thead th {\n",
       "        text-align: right;\n",
       "    }\n",
       "</style>\n",
       "<table border=\"1\" class=\"dataframe\">\n",
       "  <thead>\n",
       "    <tr style=\"text-align: right;\">\n",
       "      <th></th>\n",
       "      <th>type</th>\n",
       "      <th>repositoryid</th>\n",
       "      <th>idno</th>\n",
       "      <th>title</th>\n",
       "      <th>abbreviation</th>\n",
       "      <th>authoring_entity</th>\n",
       "      <th>nation</th>\n",
       "      <th>year_start</th>\n",
       "      <th>year_end</th>\n",
       "      <th>link_da</th>\n",
       "      <th>published</th>\n",
       "      <th>created</th>\n",
       "      <th>changed</th>\n",
       "      <th>varcount</th>\n",
       "      <th>total_views</th>\n",
       "      <th>total_downloads</th>\n",
       "      <th>created_by</th>\n",
       "      <th>changed_by</th>\n",
       "      <th>formid</th>\n",
       "    </tr>\n",
       "    <tr>\n",
       "      <th>id</th>\n",
       "      <th></th>\n",
       "      <th></th>\n",
       "      <th></th>\n",
       "      <th></th>\n",
       "      <th></th>\n",
       "      <th></th>\n",
       "      <th></th>\n",
       "      <th></th>\n",
       "      <th></th>\n",
       "      <th></th>\n",
       "      <th></th>\n",
       "      <th></th>\n",
       "      <th></th>\n",
       "      <th></th>\n",
       "      <th></th>\n",
       "      <th></th>\n",
       "      <th></th>\n",
       "      <th></th>\n",
       "      <th></th>\n",
       "    </tr>\n",
       "  </thead>\n",
       "  <tbody>\n",
       "    <tr>\n",
       "      <th>13</th>\n",
       "      <td>survey</td>\n",
       "      <td>central</td>\n",
       "      <td>ALB_2002_LSMS_v01_M</td>\n",
       "      <td>Living Standards Measurement Survey 2002 (Wave...</td>\n",
       "      <td>0</td>\n",
       "      <td>Institute of Statistics of Albania</td>\n",
       "      <td>Albania</td>\n",
       "      <td>2002</td>\n",
       "      <td>2002</td>\n",
       "      <td>None</td>\n",
       "      <td>1</td>\n",
       "      <td>2020-12-03T23:50:44+00:00</td>\n",
       "      <td>2020-12-03T23:50:44+00:00</td>\n",
       "      <td>1109</td>\n",
       "      <td>1</td>\n",
       "      <td>0</td>\n",
       "      <td>1</td>\n",
       "      <td>1</td>\n",
       "      <td>6</td>\n",
       "    </tr>\n",
       "    <tr>\n",
       "      <th>14</th>\n",
       "      <td>survey</td>\n",
       "      <td>central</td>\n",
       "      <td>ALB_2003_LSMS_v01_M</td>\n",
       "      <td>Living Standards Measurement Survey 2003 (Wave...</td>\n",
       "      <td>0</td>\n",
       "      <td>Institute of Statistics of Albania</td>\n",
       "      <td>Albania</td>\n",
       "      <td>2003</td>\n",
       "      <td>2003</td>\n",
       "      <td>None</td>\n",
       "      <td>1</td>\n",
       "      <td>2020-12-03T23:50:49+00:00</td>\n",
       "      <td>2020-12-03T23:50:49+00:00</td>\n",
       "      <td>6465</td>\n",
       "      <td>0</td>\n",
       "      <td>0</td>\n",
       "      <td>1</td>\n",
       "      <td>1</td>\n",
       "      <td>6</td>\n",
       "    </tr>\n",
       "    <tr>\n",
       "      <th>15</th>\n",
       "      <td>survey</td>\n",
       "      <td>central</td>\n",
       "      <td>ALB_2004_LSMS_v01_M</td>\n",
       "      <td>Living Standards Measurement Survey 2004 (Wave...</td>\n",
       "      <td>0</td>\n",
       "      <td>Institute of Statistics of Albania</td>\n",
       "      <td>Albania</td>\n",
       "      <td>2004</td>\n",
       "      <td>2004</td>\n",
       "      <td>None</td>\n",
       "      <td>1</td>\n",
       "      <td>2020-12-03T23:51:02+00:00</td>\n",
       "      <td>2020-12-03T23:51:02+00:00</td>\n",
       "      <td>2072</td>\n",
       "      <td>1</td>\n",
       "      <td>0</td>\n",
       "      <td>1</td>\n",
       "      <td>1</td>\n",
       "      <td>6</td>\n",
       "    </tr>\n",
       "    <tr>\n",
       "      <th>17</th>\n",
       "      <td>survey</td>\n",
       "      <td>central</td>\n",
       "      <td>ALB_2005_LSMS_v01_M</td>\n",
       "      <td>Living Standards Measurement Survey 2005</td>\n",
       "      <td>0</td>\n",
       "      <td>Institute of Statistics of Albania</td>\n",
       "      <td>Albania</td>\n",
       "      <td>2005</td>\n",
       "      <td>2005</td>\n",
       "      <td>None</td>\n",
       "      <td>1</td>\n",
       "      <td>2020-12-03T23:51:22+00:00</td>\n",
       "      <td>2020-12-03T23:51:22+00:00</td>\n",
       "      <td>2551</td>\n",
       "      <td>2</td>\n",
       "      <td>0</td>\n",
       "      <td>1</td>\n",
       "      <td>1</td>\n",
       "      <td>6</td>\n",
       "    </tr>\n",
       "  </tbody>\n",
       "</table>\n",
       "</div>"
      ],
      "text/plain": [
       "      type repositoryid                 idno  \\\n",
       "id                                             \n",
       "13  survey      central  ALB_2002_LSMS_v01_M   \n",
       "14  survey      central  ALB_2003_LSMS_v01_M   \n",
       "15  survey      central  ALB_2004_LSMS_v01_M   \n",
       "17  survey      central  ALB_2005_LSMS_v01_M   \n",
       "\n",
       "                                                title abbreviation  \\\n",
       "id                                                                   \n",
       "13  Living Standards Measurement Survey 2002 (Wave...            0   \n",
       "14  Living Standards Measurement Survey 2003 (Wave...            0   \n",
       "15  Living Standards Measurement Survey 2004 (Wave...            0   \n",
       "17           Living Standards Measurement Survey 2005            0   \n",
       "\n",
       "                      authoring_entity   nation year_start year_end link_da  \\\n",
       "id                                                                            \n",
       "13  Institute of Statistics of Albania  Albania       2002     2002    None   \n",
       "14  Institute of Statistics of Albania  Albania       2003     2003    None   \n",
       "15  Institute of Statistics of Albania  Albania       2004     2004    None   \n",
       "17  Institute of Statistics of Albania  Albania       2005     2005    None   \n",
       "\n",
       "   published                    created                    changed varcount  \\\n",
       "id                                                                            \n",
       "13         1  2020-12-03T23:50:44+00:00  2020-12-03T23:50:44+00:00     1109   \n",
       "14         1  2020-12-03T23:50:49+00:00  2020-12-03T23:50:49+00:00     6465   \n",
       "15         1  2020-12-03T23:51:02+00:00  2020-12-03T23:51:02+00:00     2072   \n",
       "17         1  2020-12-03T23:51:22+00:00  2020-12-03T23:51:22+00:00     2551   \n",
       "\n",
       "   total_views total_downloads created_by changed_by formid  \n",
       "id                                                           \n",
       "13           1               0          1          1      6  \n",
       "14           0               0          1          1      6  \n",
       "15           1               0          1          1      6  \n",
       "17           2               0          1          1      6  "
      ]
     },
     "execution_count": 8,
     "metadata": {},
     "output_type": "execute_result"
    }
   ],
   "source": [
    "nada.search_by_idno('LSMS')"
   ]
  },
  {
   "cell_type": "markdown",
   "metadata": {},
   "source": [
    "### Ex 1-3) list all datasets in the catalog"
   ]
  },
  {
   "cell_type": "code",
   "execution_count": null,
   "metadata": {},
   "outputs": [],
   "source": [
    "nada.list_all_datasets()"
   ]
  },
  {
   "cell_type": "markdown",
   "metadata": {},
   "source": [
    "<br>"
   ]
  },
  {
   "cell_type": "markdown",
   "metadata": {},
   "source": [
    "## Example 2. Search resources attached to a dataset"
   ]
  },
  {
   "cell_type": "markdown",
   "metadata": {},
   "source": [
    "### Ex 2-1) list external resources for a dataset\\\n",
    "\n",
    "external resource refers to ..."
   ]
  },
  {
   "cell_type": "code",
   "execution_count": null,
   "metadata": {},
   "outputs": [],
   "source": [
    "list_resources('ALB_2002_LSMS_v01_M')"
   ]
  },
  {
   "cell_type": "markdown",
   "metadata": {},
   "source": [
    "### Ex 2-2) list datafiles for a survey\n",
    "\n",
    "datafile refers to..."
   ]
  },
  {
   "cell_type": "code",
   "execution_count": null,
   "metadata": {},
   "outputs": [],
   "source": [
    "list_datafiles('ALB_2002_LSMS_v01_M')"
   ]
  },
  {
   "cell_type": "markdown",
   "metadata": {},
   "source": [
    "### Ex 2-3) list files for a dataset\n",
    "\n",
    "file refers to..."
   ]
  },
  {
   "cell_type": "code",
   "execution_count": null,
   "metadata": {},
   "outputs": [],
   "source": [
    "list_files('ALB_2002_LSMS_v01_M')"
   ]
  },
  {
   "cell_type": "code",
   "execution_count": null,
   "metadata": {},
   "outputs": [],
   "source": []
  },
  {
   "cell_type": "code",
   "execution_count": null,
   "metadata": {},
   "outputs": [],
   "source": []
  }
 ],
 "metadata": {
  "kernelspec": {
   "display_name": "Python 3",
   "language": "python",
   "name": "python3"
  },
  "language_info": {
   "codemirror_mode": {
    "name": "ipython",
    "version": 3
   },
   "file_extension": ".py",
   "mimetype": "text/x-python",
   "name": "python",
   "nbconvert_exporter": "python",
   "pygments_lexer": "ipython3",
   "version": "3.7.1"
  }
 },
 "nbformat": 4,
 "nbformat_minor": 4
}
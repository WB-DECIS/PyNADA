{
 "cells": [
  {
   "cell_type": "markdown",
   "metadata": {},
   "source": [
    "# PyNADA examples - Create & Import"
   ]
  },
  {
   "cell_type": "code",
   "execution_count": 3,
   "metadata": {},
   "outputs": [],
   "source": [
    "import pynada as nada\n",
    "import pdf2image\n",
    "from pathlib import Path"
   ]
  },
  {
   "cell_type": "markdown",
   "metadata": {},
   "source": [
    "## First you need to set API URL and KEY for your NADA catalog\n",
    "This examples uses training.ihsn.org"
   ]
  },
  {
   "cell_type": "code",
   "execution_count": 2,
   "metadata": {},
   "outputs": [],
   "source": [
    "nada.set_api_url('http://training.ihsn.org/index.php/api/')\n",
    "#api_key = 'PASTE-YOUR-KEY-HERE'\n",
    "api_key = open(\"API Key.txt\", \"r\").read()\n",
    "nada.set_api_key(api_key)"
   ]
  },
  {
   "cell_type": "markdown",
   "metadata": {},
   "source": [
    "<br>"
   ]
  },
  {
   "cell_type": "markdown",
   "metadata": {},
   "source": [
    "## Example 1. Add a document dataset"
   ]
  },
  {
   "cell_type": "markdown",
   "metadata": {},
   "source": [
    "### Ex 1-1) add research paper \"The economics of forced displacement: An introduction by Paolo Verme\""
   ]
  },
  {
   "cell_type": "markdown",
   "metadata": {},
   "source": [
    "Set the information for the dataset"
   ]
  },
  {
   "cell_type": "code",
   "execution_count": 1,
   "metadata": {},
   "outputs": [],
   "source": [
    "dataset_id = \"WPS8038\"\n",
    "\n",
    "repository_id = \"central\"\n",
    "\n",
    "published = 1\n",
    "\n",
    "overwrite = \"yes\"\n",
    "\n",
    "document_description = {\n",
    "    \"title_statement\": {\n",
    "        \"title\": \"The economics of forced displacement: An introduction\",\n",
    "        \"idno\": \"WPS8038\"\n",
    "    },\n",
    "    \"date_published\": \"2017-04-25\",\n",
    "    \"authors\": [\n",
    "        {\n",
    "            \"last_name\": \"Verme\",\n",
    "            \"first_name\": \"Paolo\",\n",
    "            \"affiliation\": \"World Bank\"\n",
    "        }\n",
    "    ],\n",
    "    \"journal\": \"World Bank Policy Research Working Paper No. 8038\",\n",
    "    \"abstract\": \"Forced displacement -- defined as the displacement of refugees and internally displaced persons due to violence -- has reached an unprecedented scale and global attention during the past few years, particularly in the aftermath of the Syrian refugee crisis in 2011 and the European Union's migration crisis in 2015. As this plight gained momentum, economics found itself unprepared to answer the basic questions surrounding refugees and internally displaced persons. Few economists or institutions were working on forced displacement. Economic theory or empirics had little to offer in articles published in journals. Data were scarce, unreliable, or inaccessible. Can economics rise to the challenge? Is the economics of forced displacement different from neoclassical economics? Can off-the-shelves models be used to study forced displaced populations? What is missing to do the economics of forced displacement? What are the data constraints that limit economists in this work? This paper provides a first nontechnical introduction to these topics. The paper argues that the modeling of utility, choice, risk, and information in a short-term setting is the key to address the problem. Neoclassical economics lacks some of the theoretical ingredients that are needed, but recent developments in game theory, neuroeconomics, and behavioral economics have opened new horizons that make the task of modeling forced displacement within reach. Empirics is clearly limited by the scarcity of quality data, but an example shows how welfare economists can start working with existing data. Economists have no excuse to maintain the status quo and should get on with the work on forced displacement.\",\n",
    "    \"languages\": [\n",
    "        {\n",
    "            \"name\": \"English\",\n",
    "            \"code\": \"EN\"\n",
    "        }\n",
    "    ]\n",
    "}\n",
    "\n",
    "files = [\n",
    "    {\n",
    "        \"file_uri\": \"https://papers.ssrn.com/sol3/papers.cfm?abstract_id=2958540\"\n",
    "    }\n",
    "]\n"
   ]
  },
  {
   "cell_type": "markdown",
   "metadata": {},
   "source": [
    "Add the document dataset to the catalog"
   ]
  },
  {
   "cell_type": "code",
   "execution_count": null,
   "metadata": {},
   "outputs": [],
   "source": [
    "create_dataset.add_document_dataset(\n",
    "    dataset_id=dataset_id,\n",
    "    repository_id=repository_id,\n",
    "    published=published,\n",
    "    overwrite=overwrite,\n",
    "    document_description=document_description,\n",
    "    files=files\n",
    ")"
   ]
  },
  {
   "cell_type": "markdown",
   "source": [
    "If you have pdf file, generate thumbnail from it. Otherwise,ignore this cell"
   ],
   "metadata": {
    "collapsed": false
   }
  },
  {
   "cell_type": "code",
   "execution_count": null,
   "outputs": [],
   "source": [
    "pdf_file_path = Path('../../../Documents/WPS8038.pdf')\n",
    "thumbnail_path = pdf_file_path.with_suffix('.jpg')\n",
    "thubmnail = pdf2image.convert_from_path(pdf_file_path, first_page=1, last_page=1)[0]\n",
    "thubmnail.save(thumbnail_path, 'JPEG')\n",
    "create_and_import.add_thumbnail(dataset_id, thumbnail_path)"
   ],
   "metadata": {
    "collapsed": false,
    "pycharm": {
     "name": "#%%\n"
    }
   }
  },
  {
   "cell_type": "markdown",
   "metadata": {},
   "source": [
    "<br>"
   ]
  },
  {
   "cell_type": "markdown",
   "metadata": {},
   "source": [
    "## Example 2. Add a script dataset"
   ]
  },
  {
   "cell_type": "markdown",
   "metadata": {},
   "source": [
    "### Ex 2-1) add project \"Predicting Food Crises by Bo Pieter Johannes Andrée, Andres Chamorro, Aart Kraay, Phoebe Spencer, Dieter Wang\""
   ]
  },
  {
   "cell_type": "code",
   "execution_count": null,
   "metadata": {},
   "outputs": [],
   "source": [
    "idno = \"RR_WLD_2020_PFC_v01\"\n",
    "\n",
    "repositoryid = \"central\"\n",
    "\n",
    "published = 1\n",
    "\n",
    "overwrite = \"yes\"\n",
    "\n",
    "doc_desc = None"
   ]
  },
  {
   "cell_type": "code",
   "execution_count": null,
   "metadata": {},
   "outputs": [],
   "source": [
    "title_statement = {\n",
    "    \"idno\": \"RR_WLD_2020_PFC_v01\",\n",
    "    \"title\": \"Reproducible code for the World Bank Policy Research Working Paper No 9142 - Predicting Food Crises\"\n",
    "}"
   ]
  },
  {
   "cell_type": "code",
   "execution_count": null,
   "metadata": {},
   "outputs": [],
   "source": [
    "abstract = inspect.cleandoc(\"\"\"\\\n",
    "    This package contains code and data for a statistical forecasting approach to predict the outbreak of food crises.\n",
    "\"\"\"),"
   ]
  },
  {
   "cell_type": "code",
   "execution_count": null,
   "metadata": {},
   "outputs": [],
   "source": [
    "output = [\n",
    "    {\n",
    "        \"type\": \"Working paper\",\n",
    "        \"title\": \"Predicting Food Crises\",\n",
    "        \"authors\": \"Bo Pieter Johannes Andrée, Andres Chamorro, Aart Kraay, Phoebe Spencer, Dieter Wang\",\n",
    "        \"description\": inspect.cleandoc(\"\"\"\\\n",
    "        \n",
    "            World Bank Policy Research Working Paper No 9412.\n",
    "            This paper is a product of the Fragility, Conflict and Violence Global Theme and the Development Economics Vice Presidency. It is part of a larger effort by the World Bank to provide open access to its research and make a contribution to development policy discussions around the world.\n",
    "            \n",
    "        \"\"\"),\n",
    "        \"abstract\": inspect.cleandoc(\"\"\"\\\n",
    "        \n",
    "            Globally, more than 130 million people are estimated to be in food crisis. These humanitarian disasters are associated with severe impacts on livelihoods that can reverse years of development gains. \n",
    "            The existing outlooks of crisis-affected populations rely on expert assessment of evidence and are limited in their temporal frequency and ability to look beyond several months.\n",
    "            This paper presents a statistical forecasting approach to predict the outbreak of food crises with sufficient lead time for preventive action. \n",
    "            Different use cases are explored related to possible alternative targeting policies and the levels at which finance is typically unlocked. \n",
    "            The results indicate that, particularly at longer forecasting horizons, the statistical predictions compare favorably to expert-based outlooks. \n",
    "            The paper concludes that statistical models demonstrate good ability to detect future outbreaks of food crises and that using statistical forecasting approaches may help increase lead time for action.\n",
    "        \n",
    "        \"\"\"),\n",
    "        \"uri\": \"http://hdl.handle.net/10986/34510\"\n",
    "    }\n",
    "]"
   ]
  },
  {
   "cell_type": "code",
   "execution_count": null,
   "metadata": {},
   "outputs": [],
   "source": [
    "acknowledgement_statement = inspect.cleandoc(\"\"\"\\\n",
    "\n",
    "    This work was prepared as background for the Famine Action Mechanism (FAM). \n",
    "    The authors would like to thank Nadia Piffaretti, Zacharey Carmichael, Harun Dogo, Arif Hussain, Luca Russo, Jose Lopez, Colin Bruce, Nick Haan, Frank Davenport, Dan Maxwell, Joanna Macrae, Soomin Park, Marco Zambotti, Sardar Azari, Therese Norman-Monroe, Jacob LaRiviere, and the IPC, WFP mVAM, and FAO teams for invaluable contributions in the initial phase of this work. \n",
    "    In particular, we'd like to thank the participants of the FAM Workshop in Geneva on February 2018 hosted by ICRC, Artemis Working Days in Rome on April 2018 hosted by WFP, the FAM Data and Analytics meetings with global tech partners in Rome and New York on September 2018, and the participants to the Predictive Analytics workshop hosted by UN OCHA, at the Center for Humanitarian data in the Hague in April 2019.\n",
    "\n",
    "\"\"\")"
   ]
  },
  {
   "cell_type": "code",
   "execution_count": null,
   "metadata": {},
   "outputs": [],
   "source": [
    "geographic_units = [\n",
    "    {\"name\": \"Afghanistan\", \"code\": \"AFG\", \"type\": \"Country\"},\n",
    "    {\"name\": \"Burkina Faso\", \"code\": \"BFA\", \"type\": \"Country\"},\n",
    "    {\"name\": \"Chad\", \"code\": \"TCD\", \"type\": \"Country\"},\n",
    "    {\"name\": \"Congo, Dem. Rep.\", \"code\": \"COD\", \"type\": \"Country\"},\n",
    "    {\"name\": \"Ethiopia\", \"code\": \"ETH\", \"type\": \"Country\"},\n",
    "    {\"name\": \"Guatemala\", \"code\": \"GTM\", \"type\": \"Country\"},\n",
    "    {\"name\": \"Haiti\", \"code\": \"HTI\", \"type\": \"Country\"},\n",
    "    {\"name\": \"Kenya\", \"code\": \"KEN\", \"type\": \"Country\"},\n",
    "    {\"name\": \"Malawi\", \"code\": \"MWI\", \"type\": \"Country\"},\n",
    "    {\"name\": \"Mali\", \"code\": \"MLI\", \"type\": \"Country\"},\n",
    "    {\"name\": \"Mauritania\", \"code\": \"MRT\", \"type\": \"Country\"},\n",
    "    {\"name\": \"Mozambique\", \"code\": \"MOZ\", \"type\": \"Country\"},\n",
    "    {\"name\": \"Niger\", \"code\": \"NER\", \"type\": \"Country\"},\n",
    "    {\"name\": \"Nigeria\", \"code\": \"NGA\", \"type\": \"Country\"},\n",
    "    {\"name\": \"Somalia\", \"code\": \"SOM\", \"type\": \"Country\"},\n",
    "    {\"name\": \"South Sudan\", \"code\": \"SSD\", \"type\": \"Country\"},\n",
    "    {\"name\": \"Sudan\", \"code\": \"SDN\", \"type\": \"Country\"},\n",
    "    {\"name\": \"Uganda\", \"code\": \"UGA\", \"type\": \"Country\"},\n",
    "    {\"name\": \"Yemen, Rep.\", \"code\": \"YEM\", \"type\": \"Country\"},\n",
    "    {\"name\": \"Zambia\", \"code\": \"ZMB\", \"type\": \"Country\"},\n",
    "    {\"name\": \"Zimbabwe\", \"code\": \"ZWE\", \"type\": \"Country\"}\n",
    "]"
   ]
  },
  {
   "cell_type": "code",
   "execution_count": null,
   "metadata": {},
   "outputs": [],
   "source": [
    "keywords = [\n",
    "    {\"name\": \"crisis\"},\n",
    "    {\"name\": \"malnutrition\"},\n",
    "    {\"name\": \"food price\"},\n",
    "    {\"name\": \"food security\"},\n",
    "    {\"name\": \"food insecurity\"},\n",
    "    {\"name\": \"extreme events\"},\n",
    "    {\"name\": \"unbalanced data\"},\n",
    "    {\"name\": \"costsensitive learning\"},\n",
    "    {\"name\": \"cost-sensitive learning\"},\n",
    "    {\"name\": \"fragility\"},\n",
    "    {\"name\": \"famine\"},\n",
    "    {\"name\": \"famine action mechanism FAM\"}\n",
    "]"
   ]
  },
  {
   "cell_type": "code",
   "execution_count": null,
   "metadata": {},
   "outputs": [],
   "source": [
    "topics = [\n",
    "    {\n",
    "        \"id\": \"C01\",\n",
    "        \"name\": \"Econometrics\",\n",
    "        \"vocabulary\": \"Journal of Economic Literature (JEL)\",\n",
    "        \"uri\": \"https://www.aeaweb.org/econlit/jelCodes.php\"\n",
    "    },\n",
    "    {\n",
    "        \"id\": \"C14\",\n",
    "        \"name\": \"Semiparametric and Nonparametric Methods: General\",\n",
    "        \"vocabulary\": \"Journal of Economic Literature (JEL)\",\n",
    "        \"uri\": \"https://www.aeaweb.org/econlit/jelCodes.php\"\n",
    "    },\n",
    "    {\n",
    "        \"id\": \"C25\",\n",
    "        \"name\": \"Discrete Regression and Qualitative Choice Models - Discrete Regressors - Proportions - Probabilities\",\n",
    "        \"vocabulary\": \"Journal of Economic Literature (JEL)\",\n",
    "        \"uri\": \"https://www.aeaweb.org/econlit/jelCodes.php\"\n",
    "    },\n",
    "    {\n",
    "        \"id\": \"C53\",\n",
    "        \"name\": \"Forecasting and Prediction Methods - Simulation Methods\",\n",
    "        \"vocabulary\": \"Journal of Economic Literature (JEL)\",\n",
    "        \"uri\": \"https://www.aeaweb.org/econlit/jelCodes.php\"\n",
    "    },\n",
    "    {\n",
    "        \"id\": \"O10\",\n",
    "        \"name\": \"Economic Development - General\",\n",
    "        \"vocabulary\": \"Journal of Economic Literature (JEL)\",\n",
    "        \"uri\": \"https://www.aeaweb.org/econlit/jelCodes.php\"\n",
    "    }\n",
    "]"
   ]
  },
  {
   "cell_type": "code",
   "execution_count": null,
   "metadata": {},
   "outputs": [],
   "source": [
    "technology_requirements = inspect.cleandoc(\"\"\"\\\n",
    "\n",
    "    - The code was developed and last ran in Microsoft Open R 3.5.1, on Ubuntu 16.04.5 LTS and has not been tested on other OS. It should run in R 3.5.1 but the code benefits from multithreaded BLAS/LAPACK and contains a call to automatically sets MKL threads. This may throw an error in R 3.5.1 but should not break the remainder of the code.\n",
    "    - The results presented in the paper have been generated on a virtual machine with 64 CPUs and 256GB RAM. Producing the full set of results in the paper consumed around 12,000 core hours and was run on a D64s_v3 VM with 64CPUs and 256 GiB RAM. Some simplifications have been made to make the final code more usable, comments are left in the main R file.\n",
    "    - Viewing plots: R Studio server is recommended.\n",
    "\n",
    "\"\"\")"
   ]
  },
  {
   "cell_type": "code",
   "execution_count": null,
   "metadata": {},
   "outputs": [],
   "source": [
    "reproduction_instructions = inspect.cleandoc(\"\"\"\\\n",
    "\n",
    "    >> INSTALLATION\n",
    "\n",
    "    The user will need to follow standard installation instructions for R. \n",
    "    * To avoid unexpected issues, it is recommended to run this code on a similar R installation and OS, i.e. Microsoft Open R 3.5.1. on Ubuntu 16.04.5 and r-studio-server 1.2.5001.\n",
    "\n",
    "    Install the required R packages (lines 5 - 34 in predicting_food_crises_dependencies.R). \n",
    "    * Note that many R packages require the user to install dependencies on ubuntu OS itself.\n",
    "    * User will need to install packages manually, since currently, there is no good way to automatize this. This is due to the large number of (in)direct dependencies in and outside R.\n",
    "    - At the end of this readme file, a print out of sessionInfo() is provided such that versions of all packages can be viewed.\n",
    "    * Note that the main R code (predicting_food_crises.R) sources the dependencies, the balanced learners, and reads the data. \n",
    "    - The user needs to specify the folder that contains these files in line 8. The default value is:'/home/predicting _food_crisis_package/' which assumes this package is unzipped in the home folder of ubuntu.\n",
    "\n",
    "    The code can be run in a terminal, in which case the data plots will not be visible to the user.\n",
    "    * One solution is to run the code on R Studio server. When set up correctly, one can access the RStudio IDE from anywhere via a web browser and use plot functionality. The code was developed on r-studio-server 1.2.5001. This can be isntalled by following standard installation procedures.\n",
    "\n",
    "    >> CONFIGURATION\n",
    "\n",
    "    There are a number of choices that the user can make to control the behavior of the main program:\n",
    "\n",
    "    * Lines 15-26 are options to control the definition of the dependent variable and the treatment of independent variables. \n",
    "    The default settings runs a model on all countries, using ipc 3 and above as positive class, uses only exogenous covariates as predictors, adds synthetic cases to the training data, calculates additional features, and restricts linear correlation to .75. These are the settings that correspond to the paper.\n",
    "    * Lines 31-32 control the type of learner used, default settings correspond to a simplified RF algorithm that delivers good results (nearly identical to the paper) but runs much faster.\n",
    "    See also the comments in the code.\n",
    "    * Lines 35-37 control an imputation strategy in case a missing value is encountered, settings should not matter when the supplied data is used.\n",
    "    * Lines 40-43 control the cross-validation, note that repetitions have been reduced to make the runtime and RAM requirements more manageable.\n",
    "    * Lines 46-55 control the compute environment.\n",
    "\n",
    "    Default settings:\n",
    "    * Note that parallel processing works differently on ubuntu than on other OS, but generally it involves generating copies of dependencies or compute environments and so memory requirements can be extremely high even when the initial data set seems manageable. For this reason the following simplifications have been made to default seetings:  \n",
    "    - The number of validation samples has been reduced from 50 to 10.\n",
    "    - The tuning parameters of the default RF model have been fixed at recommended values. To run full tuning or use one of the alternative balanced classifiers, change MODEL_METHOD to one of the classifiers from predicting_food_crises_balanced_learners.R\n",
    "    - When an alterantive model is used, the length of the tuning grid has been reduced to 5, the paper uses 10.\n",
    "    * These settings produce similar results as those presented in the main paper, but the runtime and RAM requirements have been drastically reduced (depending of course on the number of CPUs available). \n",
    "    - The final code at (recommended) default settings was last run on a D32s_v3 VM with 32CPUs and 128 GiB RAM, reaching 100% CPU utilization and approx 60% RAM utilization, and took just below 2.5 hours to complete.\n",
    "    - By default, the code runs on the entire data set that is provided. Note that the paper only trains and cross-validates on data up to February 2019. With the current settings, it is thus straightforward to update the data set and make real forecasts.\n",
    "\n",
    "    >> EXECUTION\n",
    "\n",
    "    Running code:\n",
    "    * After installation, simply unpack the folder, point the code (line 8) to the correct folder and run predicting_food_crises.R.\n",
    "    * The code is currently not set up to write results to disk. As always, complex R objects can be saved for re-use using saveRDS() and text can be written using write.csv().\n",
    "\n",
    "    >> TROUBLESHOOTING\n",
    "\n",
    "    Dependencies:\n",
    "    * Make sure all OS dependencies are installed such that all libraries can be installed. Then make sure that all R libraries are installed and that also their dependencies are installed.\n",
    "    * See the sessionInfo() readout at the end of this file. \n",
    "    * Make sure the predicting_food_crises_dependencies.R and predicting_food_crises_balanced_learners.R files are correctly sourced.\n",
    "\n",
    "    Unexpected crash with different compute settings:\n",
    "    * If a different VM is used or if changes are made to the settings and the program crashes halfway, then keep an eye on the RAM usage. On ubuntu this can be monitored using > htop\n",
    "    If RAM usage is too high, reduce the number of cores used in lines 46-55.\n",
    "\n",
    "    NA values in validation metrics:\n",
    "    * A common issue with caret is that validation metrics return as NA. This is likely result of a missing dependency in the slave environment, which may occur because different OS handle parallelization differently. See if the issue persists when setting MODEL_METHOD to another value, for example 'multinom'.\n",
    "\n",
    "\"\"\")"
   ]
  },
  {
   "cell_type": "code",
   "execution_count": null,
   "metadata": {},
   "outputs": [],
   "source": [
    "methods = [\n",
    "    {\"name\": \"inverse distance interpolation\", \"note\": \"\"},\n",
    "    {\"name\": \"outliers smoothing\", \"note\": \"\"},\n",
    "    {\"name\": \"seasonal decomposition\", \"note\": \"\"},\n",
    "    {\"name\": \"moving average\", \"note\": \"\"},\n",
    "    {\"name\": \"k-neighbors\", \"note\": \"\"},\n",
    "    {\"name\": \"K-fold cross validation\", \"note\": \"\"},\n",
    "    {\"name\": \"random forest\", \"note\": \"\"},\n",
    "    {\"name\": \"confusion matrix\", \"note\": \"\"},\n",
    "    {\"name\": \"pseudo-out-of-sample\", \"note\": \"\"},\n",
    "    {\"name\": \"temporal holdout validation\", \"note\": \"\"},\n",
    "    {\"name\": \"logistic regression with Lasso penalty\", \"note\": \"\"},\n",
    "    {\"name\": \"multi-layer perceptron neural network\", \"note\": \"\"},\n",
    "    {\"name\": \"forecast decomposition\", \"note\": \"\"}\n",
    "]"
   ]
  },
  {
   "cell_type": "code",
   "execution_count": null,
   "metadata": {},
   "outputs": [],
   "source": [
    "software = [\n",
    "    {\n",
    "        \"name\": \"R\",\n",
    "        \"version\": \"Version 3.5.1 (2018-07-02)\",\n",
    "        \"library\": \n",
    "        [\n",
    "            \"TTR\", \"forecast\", \"timeSeries\", \"KRLS\", \"zoo\", \"spdep\", \"pROC\", \"MASS\", \"mice\", \"phylin\", \"imputeTS\",\n",
    "            \"plyr\", \"dplyr\", \"gplots\", \"parallel\", \"foreach\", \"caret\", \"doSNOW\", \"doParallel\", \"doFuture\", \"downloader\",\n",
    "            \"CDM\", \"miceadds\", \"janitor\", \"psych\", \"xts\", \"fpp\", \"Ecdat\", \"DescTools\", \"devtools\"\n",
    "        ]\n",
    "    }\n",
    "]"
   ]
  },
  {
   "cell_type": "code",
   "execution_count": null,
   "metadata": {},
   "outputs": [],
   "source": [
    "scripts = [\n",
    "    {\n",
    "        \"file_name\": \"readme.txt\",\n",
    "        \"title\": \"Readme file\",\n",
    "        \"authors\": [{\"name\": \"Bo P.J. Andree\", \"abbr\": \"\", \"role\": \"\"}],\n",
    "        \"date\": \"2020-09\",\n",
    "        \"format\": \"txt (ASCII)\",\n",
    "        \"description\": \"Readme file on Introduction, Requirements, Installation, Configuration, Execution, Troubleshooting, Maintainers, sessionInfo\"\n",
    "    },\n",
    "    {\n",
    "        \"file_name\": \"predicting_food_crises.R\",\n",
    "        \"title\": \"Predicting food crises (main code)\",\n",
    "        \"authors\": [{\"name\": \"Bo P.J. Andree\"}],\n",
    "        \"date\": \"2020-09\",\n",
    "        \"format\": \"R script\",\n",
    "        \"software\": \"R version 3.5.1 (2018-07-02)\",\n",
    "        \"description\": \"The main R code used to produce to process data, train and cross-validate models for 1 to 12 month ahead forecasts and generate useful plots and results\"\n",
    "    },\n",
    "    {\n",
    "        \"file_name\": \"predicting_food_crises_dependencies.R\",\n",
    "        \"title\": \"Predicting food crises (dependencies)\",\n",
    "        \"authors\": [{\"name\": \"Bo P.J. Andree\"}],\n",
    "        \"date\": \"2020-09\",\n",
    "        \"format\": \"R script\",\n",
    "        \"software\": \"R version 3.5.1 (2018-07-02)\",\n",
    "        \"description\": \"Dependencies required to run the main R code contained in predicting_food_crises.R\"\n",
    "    },\n",
    "    {\n",
    "        \"file_name\": \"predicting_food_crises_balanced_learners.R\",\n",
    "        \"title\": \"Predicting food crises (balanced learners)\",\n",
    "        \"authors\": [{\"name\": \"Bo P.J. Andree\"}],\n",
    "        \"date\": \"2020-09\",\n",
    "        \"format\": \"R script\",\n",
    "        \"software\": \"R version 3.5.1 (2018-07-02)\",\n",
    "        \"description\": \"Popular classifiers with cross-validated probability balancing as described in the paper\",\n",
    "        \"instructions\": \"The code can be run\"\n",
    "    }\n",
    "]"
   ]
  },
  {
   "cell_type": "code",
   "execution_count": null,
   "metadata": {},
   "outputs": [],
   "source": [
    "datasets = [\n",
    "    {\n",
    "        \"name\": \"predicting_food_crises_data.csv\",\n",
    "        \"idno\": \"WLD_2020_PFC_v01_M\",\n",
    "        \"note\": \"Data set used to produce results of the paper\",\n",
    "        \"access_type\": \"Open\",\n",
    "        \"uri\": \"http://fcv.ihsn.org//catalog/1325\"\n",
    "    }\n",
    "]"
   ]
  },
  {
   "cell_type": "code",
   "execution_count": null,
   "metadata": {},
   "outputs": [],
   "source": [
    "contacts = [\n",
    "    {\"name\": \"Bo P.J. Andree\", \"affiliation\": \"World Bank\", \"uri\": \"bandree@worldbank.org\",\n",
    "     \"role\": \"For technical questions on the paper and code\"},\n",
    "    {\"name\": \"Andres Chamorro\", \"affiliation\": \"World Bank\", \"uri\": \"achamorroelizond@worldbank.org\",\n",
    "     \"role\": \"For data-related questions\"},\n",
    "    {\"name\": \"Nadia Piffaretti\", \"affiliation\": \"World Bank\", \"uri\": \"npiffaretti@worldbank.org\",\n",
    "     \"role\": \"For other questions\"}\n",
    "]"
   ]
  },
  {
   "cell_type": "code",
   "execution_count": null,
   "metadata": {},
   "outputs": [],
   "source": [
    "project_desc = {\n",
    "    \"title_statement\": title_statement,\n",
    "    \"abstract\": abstract,\n",
    "    \"output\": output,\n",
    "    \"language\": [\n",
    "        {\n",
    "            \"name\": \"English\",\n",
    "            \"code\": \"EN\"\n",
    "        }\n",
    "    ],\n",
    "    \"production_date\": [\n",
    "        \"2020-10-07\"\n",
    "    ],\n",
    "    \"version_statement\": {\n",
    "        \"version\": \"1.0\",\n",
    "        \"version_date\": \"September 2020\"\n",
    "    },\n",
    "    \"authoring_entity\": [\n",
    "        {\n",
    "            \"name\": \"Bo Pieter Johannes Andree\",\n",
    "            \"affiliation\": \"World Bank\",\n",
    "        }\n",
    "    ],\n",
    "    \"acknowledgement_statement\": acknowledgement_statement,\n",
    "    \"geographic_units\": geographic_units,\n",
    "    \"keywords\": keywords,\n",
    "    \"topics\": topics,\n",
    "    \"license\": [\n",
    "        {\n",
    "            \"name\": \"CCA 4.0\",\n",
    "            \"uri\": \"https://creativecommons.org/licenses/by/4.0\"\n",
    "        }\n",
    "    ],\n",
    "    \"technology_requirements\": technology_requirements,\n",
    "    \"reproduction_instructions\": reproduction_instructions,\n",
    "    \"methods\": methods,\n",
    "    \"software\": software,\n",
    "    \"scripts\": scripts,\n",
    "    \"datasets\": datasets,\n",
    "    \"contacts\": contacts,\n",
    "    \"tags\": [\n",
    "        {\n",
    "            \"tag\": \"project tag\"\n",
    "        }\n",
    "    ],\n",
    "    \"disclaimer\": \"These results and the related working paper reflect the views of the authors, and do not reflect the official views of the World Bank, its Executive Directors, or the countries they represent.\",\n",
    "    \"confidentiality\": \"The published materials do not contain any confidential information.\",\n",
    "    \"citation_requirement\": \"The citation of this work is Andree, Bo Pieter Johannes; Chamorro, Andres; Kraay, Aart; Spencer, Phoebe; Wang, Dieter. 2020. Predicting Food Crises. Policy Research Working Paper; No. 9412. World Bank, Washington, DC.\"\n",
    "}"
   ]
  },
  {
   "cell_type": "code",
   "execution_count": null,
   "metadata": {},
   "outputs": [],
   "source": [
    "create_and_import.add_script_dataset(\n",
    "    idno=idno,\n",
    "    repositoryid=repositoryid,\n",
    "    published=published,\n",
    "    overwrite=overwrite,\n",
    "    #doc_desc=doc_desc,\n",
    "    project_desc=project_desc\n",
    ")"
   ]
  },
  {
   "cell_type": "markdown",
   "metadata": {},
   "source": [
    "<br>"
   ]
  },
  {
   "cell_type": "markdown",
   "metadata": {},
   "source": [
    "## Example 3. Add a survey dataset"
   ]
  },
  {
   "cell_type": "markdown",
   "metadata": {},
   "source": [
    "### Ex 3-1) add a sample survey dataset"
   ]
  },
  {
   "cell_type": "code",
   "execution_count": null,
   "metadata": {},
   "outputs": [],
   "source": [
    "idno = \"survey-add-test-01\"\n",
    "\n",
    "repositoryid = \"central\"\n",
    "\n",
    "access_policy = \"data_na\"\n",
    "\n",
    "published = 0\n",
    "\n",
    "overwrite = \"yes\"\n",
    "\n",
    "doc_desc = {\n",
    "    \"title\": \"test survey 01\",\n",
    "    \"idno\": \"survey-doc-01\",\n",
    "    \"producers\": [\n",
    "        {\n",
    "            \"name\": \"Kamwoo Lee\",\n",
    "            \"abbr\": \"KL\",\n",
    "            \"affiliation\": \"DECAT\",\n",
    "            \"role\": \"test\"\n",
    "        },\n",
    "    ],\n",
    "    \"prod_date\": \"2020-12-08\",\n",
    "    \"version_statement\": {\n",
    "        \"version\": \"0.1\",\n",
    "        \"version_date\": \"2020-12-08\",\n",
    "        \"version_resp\": \"test\",\n",
    "        \"version_notes\": \"test\"\n",
    "    },\n",
    "}\n",
    "\n",
    "study_desc = {\n",
    "    \"title_statement\": {\n",
    "        \"idno\": \"survey-add-test-01\",\n",
    "        \"title\": \"test title\",\n",
    "        \"sub_title\": \"test sub title\",\n",
    "        \"alternate_title\": \"test alternate title\",\n",
    "        \"translated_title\": \"test translated title\"\n",
    "    },\n",
    "    \"authoring_entity\": [\n",
    "        {\n",
    "            \"name\": \"WB\",\n",
    "            \"affiliation\": \"test\"\n",
    "        }\n",
    "    ],\n",
    "    \"oth_id\": [\n",
    "        {\n",
    "            \"name\": \"KL\",\n",
    "            \"role\": \"test\",\n",
    "            \"affiliation\": \"test\"\n",
    "        }\n",
    "    ],\n",
    "    \"study_info\": {\n",
    "        \"nation\": [\n",
    "            {\n",
    "                \"name\": \"Bangladesh\",\n",
    "                \"abbreviation\": \"BGD\"\n",
    "            }\n",
    "        ]\n",
    "    }\n",
    "}"
   ]
  },
  {
   "cell_type": "code",
   "execution_count": null,
   "metadata": {},
   "outputs": [],
   "source": [
    "create_dataset.add_survey(\n",
    "    idno=idno,\n",
    "    repositoryid=repositoryid,\n",
    "    access_policy=access_policy,\n",
    "    published=published,\n",
    "    overwrite=overwrite,\n",
    "    doc_desc=doc_desc,\n",
    "    study_desc=study_desc\n",
    ")"
   ]
  }
 ],
 "metadata": {
  "kernelspec": {
   "display_name": "Python 3",
   "language": "python",
   "name": "python3"
  },
  "language_info": {
   "codemirror_mode": {
    "name": "ipython",
    "version": 3
   },
   "file_extension": ".py",
   "mimetype": "text/x-python",
   "name": "python",
   "nbconvert_exporter": "python",
   "pygments_lexer": "ipython3",
   "version": "3.7.1"
  }
 },
 "nbformat": 4,
 "nbformat_minor": 4
}
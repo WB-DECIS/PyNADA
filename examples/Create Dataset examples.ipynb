{
 "cells": [
  {
   "cell_type": "markdown",
   "metadata": {},
   "source": [
    "## PyNADA Create Dataset examples"
   ]
  },
  {
   "cell_type": "code",
   "execution_count": 1,
   "metadata": {},
   "outputs": [],
   "source": [
    "import pynada as nada"
   ]
  },
  {
   "cell_type": "markdown",
   "metadata": {},
   "source": [
    "### First you need to set API URL and KEY for your NADA catalog\n",
    "This examples uses training.ihsn.org"
   ]
  },
  {
   "cell_type": "code",
   "execution_count": 2,
   "metadata": {},
   "outputs": [],
   "source": [
    "nada.set_api_url('http://training.ihsn.org/index.php/api/')\n",
    "api_key = 'your api key'\n",
    "nada.set_api_key(api_key)"
   ]
  },
  {
   "cell_type": "markdown",
   "metadata": {},
   "source": [
    "### Add a document"
   ]
  },
  {
   "cell_type": "markdown",
   "metadata": {},
   "source": [
    "Ex) add research paper \"The economics of forced displacement: An introduction by Paolo Verme\""
   ]
  },
  {
   "cell_type": "code",
   "execution_count": 1,
   "metadata": {},
   "outputs": [],
   "source": [
    "idno = \"WPS8038\"\n",
    "\n",
    "repositoryid = \"central\"\n",
    "\n",
    "published = 1\n",
    "\n",
    "overwrite = \"yes\"\n",
    "\n",
    "document_description = {\n",
    "    \"title_statement\": {\n",
    "        \"title\": \"The economics of forced displacement: An introduction\",\n",
    "        \"idno\": \"WPS8038\"\n",
    "    },\n",
    "    \"date_published\": \"2017-04-25\",\n",
    "    \"authors\": [\n",
    "        {\n",
    "            \"last_name\": \"Verme\",\n",
    "            \"first_name\": \"Paolo\",\n",
    "            \"affiliation\": \"World Bank\"\n",
    "        }\n",
    "    ],\n",
    "    \"journal\": \"World Bank Policy Research Working Paper No. 8038\",\n",
    "    \"abstract\": \"Forced displacement -- defined as the displacement of refugees and internally displaced persons due to violence -- has reached an unprecedented scale and global attention during the past few years, particularly in the aftermath of the Syrian refugee crisis in 2011 and the European Union's migration crisis in 2015. As this plight gained momentum, economics found itself unprepared to answer the basic questions surrounding refugees and internally displaced persons. Few economists or institutions were working on forced displacement. Economic theory or empirics had little to offer in articles published in journals. Data were scarce, unreliable, or inaccessible. Can economics rise to the challenge? Is the economics of forced displacement different from neoclassical economics? Can off-the-shelves models be used to study forced displaced populations? What is missing to do the economics of forced displacement? What are the data constraints that limit economists in this work? This paper provides a first nontechnical introduction to these topics. The paper argues that the modeling of utility, choice, risk, and information in a short-term setting is the key to address the problem. Neoclassical economics lacks some of the theoretical ingredients that are needed, but recent developments in game theory, neuroeconomics, and behavioral economics have opened new horizons that make the task of modeling forced displacement within reach. Empirics is clearly limited by the scarcity of quality data, but an example shows how welfare economists can start working with existing data. Economists have no excuse to maintain the status quo and should get on with the work on forced displacement.\",\n",
    "    \"languages\": [\n",
    "        {\n",
    "            \"name\": \"English\",\n",
    "            \"code\": \"EN\"\n",
    "        }\n",
    "    ]\n",
    "}\n",
    "\n",
    "files = [\n",
    "    {\n",
    "        \"file_uri\": \"https://papers.ssrn.com/sol3/papers.cfm?abstract_id=2958540\"\n",
    "    }\n",
    "]"
   ]
  },
  {
   "cell_type": "code",
   "execution_count": null,
   "metadata": {},
   "outputs": [],
   "source": [
    "create_dataset.add_document(\n",
    "    idno=idno,\n",
    "    repositoryid=repositoryid,\n",
    "    published=published,\n",
    "    overwrite=overwrite,\n",
    "    document_description=document_description,\n",
    "    files=files\n",
    ")"
   ]
  },
  {
   "cell_type": "markdown",
   "metadata": {},
   "source": [
    "### Add a survey"
   ]
  },
  {
   "cell_type": "markdown",
   "metadata": {},
   "source": [
    "Ex) add a test survey"
   ]
  },
  {
   "cell_type": "code",
   "execution_count": null,
   "metadata": {},
   "outputs": [],
   "source": [
    "idno = \"survey-add-test-01\"\n",
    "\n",
    "repositoryid = \"central\"\n",
    "\n",
    "access_policy = \"data_na\"\n",
    "\n",
    "published = 0\n",
    "\n",
    "overwrite = \"no\"\n",
    "\n",
    "doc_desc = {\n",
    "    \"title\": \"test survey 01\",\n",
    "    \"idno\": \"survey-doc-01\",\n",
    "    \"producers\": [\n",
    "        {\n",
    "            \"name\": \"Kamwoo Lee\",\n",
    "            \"abbr\": \"KL\",\n",
    "            \"affiliation\": \"DECAT\",\n",
    "            \"role\": \"test\"\n",
    "        },\n",
    "    ],\n",
    "    \"prod_date\": \"2020-12-08\",\n",
    "    \"version_statement\": {\n",
    "        \"version\": \"0.1\",\n",
    "        \"version_date\": \"2020-12-08\",\n",
    "        \"version_resp\": \"test\",\n",
    "        \"version_notes\": \"test\"\n",
    "    },\n",
    "}\n",
    "\n",
    "study_desc = {\n",
    "    \"title_statement\": {\n",
    "        \"idno\": \"survey-add-test-01\",\n",
    "        \"title\": \"test title\",\n",
    "        \"sub_title\": \"test sub title\",\n",
    "        \"alternate_title\": \"test alternate title\",\n",
    "        \"translated_title\": \"test translated title\"\n",
    "    },\n",
    "    \"authoring_entity\": [\n",
    "        {\n",
    "            \"name\": \"WB\",\n",
    "            \"affiliation\": \"test\"\n",
    "        }\n",
    "    ],\n",
    "    \"oth_id\": [\n",
    "        {\n",
    "            \"name\": \"KL\",\n",
    "            \"role\": \"test\",\n",
    "            \"affiliation\": \"test\"\n",
    "        }\n",
    "    ],\n",
    "    \"study_info\": {\n",
    "        \"nation\": [\n",
    "            {\n",
    "                \"name\": \"Bangladesh\",\n",
    "                \"abbreviation\": \"BGD\"\n",
    "            }\n",
    "        ]\n",
    "    }\n",
    "}"
   ]
  },
  {
   "cell_type": "code",
   "execution_count": null,
   "metadata": {},
   "outputs": [],
   "source": [
    "create_dataset.add_survey(\n",
    "    idno=idno,\n",
    "    repositoryid=repositoryid,\n",
    "    access_policy=access_policy,\n",
    "    published=published,\n",
    "    overwrite=overwrite,\n",
    "    doc_desc=doc_desc,\n",
    "    study_desc=study_desc\n",
    ")"
   ]
  }
 ],
 "metadata": {
  "kernelspec": {
   "display_name": "Python 3",
   "language": "python",
   "name": "python3"
  },
  "language_info": {
   "codemirror_mode": {
    "name": "ipython",
    "version": 3
   },
   "file_extension": ".py",
   "mimetype": "text/x-python",
   "name": "python",
   "nbconvert_exporter": "python",
   "pygments_lexer": "ipython3",
   "version": "3.7.1"
  }
 },
 "nbformat": 4,
 "nbformat_minor": 4
}
